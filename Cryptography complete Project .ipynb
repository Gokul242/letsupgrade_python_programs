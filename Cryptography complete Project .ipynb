{
 "cells": [
  {
   "cell_type": "code",
   "execution_count": 4,
   "metadata": {},
   "outputs": [
    {
     "name": "stdout",
     "output_type": "stream",
     "text": [
      "Enter the content you want to encrypt in python Script: \n",
      "Hey, I love LetsUpgrade\n",
      "\n",
      " Encrypted Message is :  b'gAAAAABf3BtQVaCfJ9p59WFP8TORanGzXJsTirfMVdBXtxCMXxdcTNfLpkdA-epTe2ZKKCTfNYsL3hsWMmT-nWMI2SlkRKavSj9GESnKUB6vynF4X_6xu60='\n",
      "\n",
      " Decrypted Message is :  b'Hey, I love LetsUpgrade'\n"
     ]
    }
   ],
   "source": [
    "from cryptography.fernet import Fernet\n",
    "def generatePassKey():\n",
    "    key = Fernet.generate_key()\n",
    "    abc = open(\"PasswordKey2.key\", 'wb')\n",
    "    abc.write(key)\n",
    "    abc.close()\n",
    "    return key\n",
    "def getContentFromUser():\n",
    "    return input(\"Enter the content you want to encrypt in python Script: \\n\")\n",
    "def encryptMessage(message_normal,key):\n",
    "    k = Fernet(key)\n",
    "    encrypted_message = k.encrypt(message_normal)\n",
    "    return encrypted_message\n",
    "def decryptMessage(message_secret,key):\n",
    "    k = Fernet(key)\n",
    "    decrypted_message = k.decrypt(message_secret)\n",
    "    return decrypted_message\n",
    "\n",
    "\n",
    "message_normal = getContentFromUser()\n",
    "key = generatePassKey()\n",
    "msg_normal = bytes(message_normal, encoding =\"utf-8\")\n",
    "message_secret = encryptMessage(msg_normal,key)\n",
    "print(\"\\n Encrypted Message is : \", message_secret)\n",
    "#msg_secret = bytes(message_secret, encoding =\"utf-8\")\n",
    "decrypt_message = decryptMessage(message_secret,key)\n",
    "print(\"\\n Decrypted Message is : \", decrypt_message)"
   ]
  },
  {
   "cell_type": "code",
   "execution_count": null,
   "metadata": {},
   "outputs": [],
   "source": []
  }
 ],
 "metadata": {
  "kernelspec": {
   "display_name": "Python 3",
   "language": "python",
   "name": "python3"
  },
  "language_info": {
   "codemirror_mode": {
    "name": "ipython",
    "version": 3
   },
   "file_extension": ".py",
   "mimetype": "text/x-python",
   "name": "python",
   "nbconvert_exporter": "python",
   "pygments_lexer": "ipython3",
   "version": "3.8.3"
  }
 },
 "nbformat": 4,
 "nbformat_minor": 4
}
